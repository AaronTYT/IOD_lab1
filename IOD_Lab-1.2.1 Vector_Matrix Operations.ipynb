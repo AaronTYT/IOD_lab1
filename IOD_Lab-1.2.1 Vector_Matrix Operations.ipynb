{
  "cells": [
    {
      "cell_type": "markdown",
      "metadata": {
        "id": "view-in-github",
        "colab_type": "text"
      },
      "source": [
        "<a href=\"https://colab.research.google.com/github/AaronTYT/IOD_lab1/blob/main/IOD_Lab-1.2.1%20Vector_Matrix%20Operations.ipynb\" target=\"_parent\"><img src=\"https://colab.research.google.com/assets/colab-badge.svg\" alt=\"Open In Colab\"/></a>"
      ]
    },
    {
      "cell_type": "markdown",
      "metadata": {
        "id": "emj1GNgIT3CB"
      },
      "source": [
        "<div>\n",
        "<img src=https://www.institutedata.com/wp-content/uploads/2019/10/iod_h_tp_primary_c.svg width=\"300\">\n",
        "</div>"
      ]
    },
    {
      "cell_type": "markdown",
      "metadata": {
        "id": "6WVkmCXWoyit"
      },
      "source": [
        "In this lab you will use Python (with the NumPy library) to carry out linear algebra operations."
      ]
    },
    {
      "cell_type": "markdown",
      "metadata": {
        "id": "FvN6xzeyT3CC"
      },
      "source": [
        "1. Compute the scalar product of two vectors\n",
        "\n",
        "> In mathematics, the dot product or scalar product is an algebraic operation that takes two equal-length sequences of numbers (usually coordinate vectors) and returns a single number.\n",
        "\n",
        "> we can calculate it this way:\n",
        "\n",
        "        a · b = ax × bx + ay × by\n",
        "        \n",
        "Hint: [Dot Product](https://www.mathsisfun.com/algebra/vectors-dot-product.html)"
      ]
    },
    {
      "cell_type": "code",
      "execution_count": 3,
      "metadata": {
        "ExecuteTime": {
          "end_time": "2019-06-27T03:58:34.200170Z",
          "start_time": "2019-06-27T03:58:34.196182Z"
        },
        "id": "JkwM7G3IT3CD",
        "outputId": "9ab59618-e08f-47d9-f741-f79a81a9fad1",
        "colab": {
          "base_uri": "https://localhost:8080/"
        }
      },
      "outputs": [
        {
          "output_type": "stream",
          "name": "stdout",
          "text": [
            "Mounted at /content/drive\n"
          ]
        }
      ],
      "source": [
        "import numpy as np\n",
        "\n",
        "from google.colab import drive\n",
        "drive.mount('/content/drive')\n"
      ]
    },
    {
      "cell_type": "code",
      "source": [
        "import pandas as pd"
      ],
      "metadata": {
        "id": "6XylRLH8u-zI"
      },
      "execution_count": 4,
      "outputs": []
    },
    {
      "cell_type": "code",
      "source": [
        "df = pd.read_csv('/content/drive/MyDrive/IOD_Data/Employee-attrition.csv')\n",
        "print(df.head())"
      ],
      "metadata": {
        "id": "5IZCyaXJtB4E",
        "outputId": "586875d5-6042-44c1-9ed3-47604117f532",
        "colab": {
          "base_uri": "https://localhost:8080/"
        }
      },
      "execution_count": 5,
      "outputs": [
        {
          "output_type": "stream",
          "name": "stdout",
          "text": [
            "   EmployeeID   recorddate_key birthdate_key orighiredate_key  \\\n",
            "0        1318  12/31/2006 0:00      1/3/1954        8/28/1989   \n",
            "1        1318  12/31/2007 0:00      1/3/1954        8/28/1989   \n",
            "2        1318  12/31/2008 0:00      1/3/1954        8/28/1989   \n",
            "3        1318  12/31/2009 0:00      1/3/1954        8/28/1989   \n",
            "4        1318  12/31/2010 0:00      1/3/1954        8/28/1989   \n",
            "\n",
            "  terminationdate_key  age  length_of_service  city_name department_name  \\\n",
            "0            1/1/1900   52                 17  Vancouver       Executive   \n",
            "1            1/1/1900   53                 18  Vancouver       Executive   \n",
            "2            1/1/1900   54                 19  Vancouver       Executive   \n",
            "3            1/1/1900   55                 20  Vancouver       Executive   \n",
            "4            1/1/1900   56                 21  Vancouver       Executive   \n",
            "\n",
            "  job_title  store_name gender_short gender_full termreason_desc  \\\n",
            "0       CEO          35            M        Male  Not Applicable   \n",
            "1       CEO          35            M        Male  Not Applicable   \n",
            "2       CEO          35            M        Male  Not Applicable   \n",
            "3       CEO          35            M        Male  Not Applicable   \n",
            "4       CEO          35            M        Male  Not Applicable   \n",
            "\n",
            "    termtype_desc  STATUS_YEAR  STATUS BUSINESS_UNIT  \n",
            "0  Not Applicable         2006  ACTIVE    HEADOFFICE  \n",
            "1  Not Applicable         2007  ACTIVE    HEADOFFICE  \n",
            "2  Not Applicable         2008  ACTIVE    HEADOFFICE  \n",
            "3  Not Applicable         2009  ACTIVE    HEADOFFICE  \n",
            "4  Not Applicable         2010  ACTIVE    HEADOFFICE  \n"
          ]
        }
      ]
    },
    {
      "cell_type": "code",
      "execution_count": null,
      "metadata": {
        "ExecuteTime": {
          "end_time": "2019-06-27T04:56:56.317427Z",
          "start_time": "2019-06-27T04:56:56.313425Z"
        },
        "id": "rsOPN02pT3CG",
        "outputId": "b36c8724-4f13-48c9-c42e-b22f3757ef5a"
      },
      "outputs": [
        {
          "data": {
            "text/plain": [
              "0"
            ]
          },
          "execution_count": 43,
          "metadata": {},
          "output_type": "execute_result"
        }
      ],
      "source": [
        "a = [-12, 16]\n",
        "b = [12, 9]\n",
        "\n",
        "# Solution 1 using the mathematical forumla:\n",
        "ab_math = (a[0] * b[0]) + (a[1] * b[1])\n",
        "\n",
        "# This tells me that if it 0, the angle of these 2 vectors are completely perpendicular (90 degree)"
      ]
    },
    {
      "cell_type": "code",
      "execution_count": null,
      "metadata": {
        "id": "ZuRXCDjFs2lj",
        "outputId": "5618b488-4e06-4fd5-fef8-5c819eeadf60"
      },
      "outputs": [
        {
          "data": {
            "text/plain": [
              "0"
            ]
          },
          "execution_count": 41,
          "metadata": {},
          "output_type": "execute_result"
        }
      ],
      "source": [
        "# Solution 2: using the dot function and making sure it is a numpy array type to use the .dot\n",
        "ab = np.dot(a,b)\n",
        "ab"
      ]
    },
    {
      "cell_type": "markdown",
      "metadata": {
        "id": "6uBcRWXGs2lj"
      },
      "source": [
        "2. Compute the Hadamard product (entry-wise multiplication) of two vectors.\n",
        "\n",
        "> In mathematics, the Hadamard product (also known as the Schur product[1] or the entrywise product[2]:ch. 5) is a binary operation that takes two matrices of the same dimensions and produces another matrix of the same dimension as the operands where each element i, j is the product of elements i, j of the original two matrices. It should not be confused with the more common matrix product. It is attributed to, and named after, either French mathematician Jacques Hadamard or German mathematician Issai Schur. [Wiki](https://en.wikipedia.org/wiki/Hadamard_product_(matrices))\n",
        "\n",
        "![](https://wikimedia.org/api/rest_v1/media/math/render/svg/4eb9bb54b2820fb3583901ec05bc4b474b6d90bc)\n"
      ]
    },
    {
      "cell_type": "code",
      "execution_count": null,
      "metadata": {
        "id": "KDLskKoLs2ll"
      },
      "outputs": [],
      "source": [
        "a = np.array([[1,2],[3,4]])\n",
        "b = np.array([[5,6],[7,8]])"
      ]
    },
    {
      "cell_type": "code",
      "execution_count": null,
      "metadata": {
        "id": "qswxDycis2lo",
        "outputId": "de07b8b4-e58a-46b8-a13d-6cb398a04911"
      },
      "outputs": [
        {
          "data": {
            "text/plain": [
              "array([[ 5, 12],\n",
              "       [21, 32]])"
            ]
          },
          "execution_count": 15,
          "metadata": {},
          "output_type": "execute_result"
        }
      ],
      "source": [
        "#answer\n",
        "ab = a * b\n",
        "ab"
      ]
    },
    {
      "cell_type": "code",
      "execution_count": null,
      "metadata": {
        "id": "rXP4sJEA-Y9K"
      },
      "outputs": [],
      "source": [
        "#desired output:\n",
        "# np.array([[5,12],[21,32]])"
      ]
    },
    {
      "cell_type": "markdown",
      "metadata": {
        "id": "b1ZR2J8HT3CO"
      },
      "source": [
        "3. Compute the sum of two matrices.\n",
        "\n",
        "![](https://wikimedia.org/api/rest_v1/media/math/render/svg/0fb7845af355c550d44020e52699069c044126a9)"
      ]
    },
    {
      "cell_type": "code",
      "execution_count": null,
      "metadata": {
        "ExecuteTime": {
          "end_time": "2019-06-27T04:57:13.225605Z",
          "start_time": "2019-06-27T04:57:13.214634Z"
        },
        "id": "ulBVhGDET3CP"
      },
      "outputs": [],
      "source": [
        "# Add two matrices using a nested loop\n",
        "\n",
        "X = [[1,2,3],\n",
        "    [4,5,6],\n",
        "    [7,8,9]]\n",
        "\n",
        "Y = [[2,3,7],\n",
        "    [1,4,9],\n",
        "    [3,2,3]]"
      ]
    },
    {
      "cell_type": "code",
      "execution_count": null,
      "metadata": {
        "id": "ZeLJp3ZGZrId",
        "outputId": "e43b7342-637a-4539-b7c4-d29a9e019a9c"
      },
      "outputs": [
        {
          "data": {
            "text/plain": [
              "array([[ 3,  5, 10],\n",
              "       [ 5,  9, 15],\n",
              "       [10, 10, 12]])"
            ]
          },
          "execution_count": 21,
          "metadata": {},
          "output_type": "execute_result"
        }
      ],
      "source": [
        "ans = np.array(X) + np.array(Y)\n",
        "ans"
      ]
    },
    {
      "cell_type": "code",
      "execution_count": null,
      "metadata": {
        "id": "44erAMmCZrId"
      },
      "outputs": [],
      "source": [
        "#desired output:\n",
        "#[[3,5,10],\n",
        "# [5,9,15],\n",
        "# [10,10,12]]"
      ]
    },
    {
      "cell_type": "markdown",
      "metadata": {
        "ExecuteTime": {
          "end_time": "2019-06-27T04:04:23.509007Z",
          "start_time": "2019-06-27T04:04:23.503018Z"
        },
        "id": "CZFVdvEhT3CS"
      },
      "source": [
        "4. Compute the product of two matrices.\n",
        "\n",
        "![](https://upload.wikimedia.org/wikipedia/commons/e/eb/Matrix_multiplication_diagram_2.svg)"
      ]
    },
    {
      "cell_type": "code",
      "execution_count": null,
      "metadata": {
        "ExecuteTime": {
          "end_time": "2019-06-27T04:57:19.425749Z",
          "start_time": "2019-06-27T04:57:19.412783Z"
        },
        "id": "2cwCXjx_T3CT"
      },
      "outputs": [],
      "source": [
        "# Program to multiply two matrices using nested loops\n",
        "\n",
        "# 3x3 matrix\n",
        "X = [[7, 2, 4],\n",
        "    [3, 9, 5],\n",
        "    [8, 1, 6]]\n",
        "\n",
        "# 3x4 matrix\n",
        "Y = [[5,8,2,6],\n",
        "    [1,4,9,3],\n",
        "    [7,2,5,8]]\n",
        "\n",
        "#X is 3 x 3, #Y is 3 x 4 matrix\n",
        "#result of XY is 3 x 4 matrix.\n",
        "\n",
        "\n"
      ]
    },
    {
      "cell_type": "code",
      "execution_count": null,
      "metadata": {
        "id": "cIUXYjgGZrIe",
        "outputId": "5100cd51-209a-40d9-b897-3015676f435f"
      },
      "outputs": [
        {
          "name": "stdout",
          "output_type": "stream",
          "text": [
            "[[ 65  72  52  80]\n",
            " [ 59  70 112  85]\n",
            " [ 83  80  55  99]]\n"
          ]
        }
      ],
      "source": [
        "#answer:\n",
        "# Program to multiply two matrices using nested loops\n",
        "\n",
        "# 3x3 matrix\n",
        "X = [[7, 2, 4],\n",
        "    [3, 9, 5],\n",
        "    [8, 1, 6]]\n",
        "\n",
        "# 3x4 matrix\n",
        "Y = [[5,8,2,6],\n",
        "    [1,4,9,3],\n",
        "    [7,2,5,8]]\n",
        "\n",
        "#X is 3 x 3, #Y is 3 x 4 matrix\n",
        "#result of XY is 3 x 4 matrix.\n",
        "\n"
      ]
    },
    {
      "cell_type": "code",
      "execution_count": null,
      "metadata": {
        "id": "Hw9daqk5s2ma",
        "outputId": "e94b7e91-1fc5-4519-d03b-29159fbb8f43"
      },
      "outputs": [
        {
          "name": "stdout",
          "output_type": "stream",
          "text": [
            "[[ 65  72  52  80]\n",
            " [ 59  70 112  85]\n",
            " [ 83  80  55  99]]\n"
          ]
        }
      ],
      "source": [
        "# Answer:\n",
        "# Matrix multiplication using @ operator or np.dot()\n",
        "result = np.array(X) @ np.array(Y)\n",
        "# Alternatively: result = np.dot(X, Y)\n",
        "\n",
        "print(result)"
      ]
    },
    {
      "cell_type": "code",
      "execution_count": null,
      "metadata": {
        "id": "M2_bFbUbZrIe"
      },
      "outputs": [],
      "source": [
        "#desired output:\n",
        "#[[65, 72, 52, 80],\n",
        "# [59, 70, 112, 85],\n",
        "# [83, 80, 55, 99]]"
      ]
    },
    {
      "cell_type": "markdown",
      "metadata": {
        "id": "zxe0vdBVT3CV"
      },
      "source": [
        "5. Compute the determinant of an n x n matrix.\n",
        "\n",
        "Hint: Use\n",
        "> np.linalg.det"
      ]
    },
    {
      "cell_type": "code",
      "execution_count": null,
      "metadata": {
        "ExecuteTime": {
          "end_time": "2019-06-27T04:58:00.140277Z",
          "start_time": "2019-06-27T04:58:00.135291Z"
        },
        "id": "7SpAPh-5T3CW"
      },
      "outputs": [],
      "source": [
        "matrix = [[-2,2,-3],[-1,1,3],[2,0,-1]]"
      ]
    },
    {
      "cell_type": "code",
      "execution_count": null,
      "metadata": {
        "id": "rjFQS3POZrIe",
        "outputId": "f290567a-9b83-48d9-b7ab-349212783a43"
      },
      "outputs": [
        {
          "data": {
            "text/plain": [
              "17.999999999999996"
            ]
          },
          "execution_count": 26,
          "metadata": {},
          "output_type": "execute_result"
        }
      ],
      "source": [
        "#answer:\n",
        "ans = np.linalg.det(matrix)\n",
        "ans"
      ]
    },
    {
      "cell_type": "markdown",
      "metadata": {
        "id": "vUC6L5r1T3Ca"
      },
      "source": [
        "6. Compute the inverse of an n x n matrix.\n",
        "\n",
        "Hint: Use\n",
        "> from numpy.linalg import inv"
      ]
    },
    {
      "cell_type": "code",
      "execution_count": null,
      "metadata": {
        "ExecuteTime": {
          "end_time": "2019-06-27T04:58:33.615832Z",
          "start_time": "2019-06-27T04:58:33.609848Z"
        },
        "id": "qGxUYlMWT3Cb"
      },
      "outputs": [],
      "source": [
        "a = np.array([[1., 2.], [3., 4.]])"
      ]
    },
    {
      "cell_type": "code",
      "execution_count": null,
      "metadata": {
        "id": "pP_uIj5vZrIe",
        "outputId": "b8926651-91b8-4e0a-af0d-0c06b82bd051"
      },
      "outputs": [
        {
          "data": {
            "text/plain": [
              "array([[-2. ,  1. ],\n",
              "       [ 1.5, -0.5]])"
            ]
          },
          "execution_count": 29,
          "metadata": {},
          "output_type": "execute_result"
        }
      ],
      "source": [
        "#answer:\n",
        "from numpy.linalg import inv\n",
        "\n",
        "ans = inv(a)\n",
        "ans"
      ]
    },
    {
      "cell_type": "markdown",
      "metadata": {
        "id": "zAw5Q8id96_w"
      },
      "source": [
        "7. (Application)\n",
        "Three customers made the following purchases of three different items at an office supply store:\n",
        "* Customer W bought 2 notebooks, 4 pens and 3 staplers for \\$38.80\n",
        "* Customer X bought 3 notebooks, 3 pens and 2 staplers for \\$32.00\n",
        "* Customer Y bought 4 notebooks, 8 pens and 1 stapler for \\$36.60\n",
        "\n",
        "Based on this, how much did customer Z spend in buying 1 notebook, 2 pens and 4 staplers?"
      ]
    },
    {
      "cell_type": "code",
      "execution_count": null,
      "metadata": {
        "id": "Pf8GvcN699vP",
        "outputId": "05d452ad-9709-4cba-bd48-1d0afa9717ff"
      },
      "outputs": [
        {
          "name": "stdout",
          "output_type": "stream",
          "text": [
            "Notebook: $3.30, Pen: $1.90, Stapler: $8.20\n",
            "Customer Z spent: $39.90\n"
          ]
        }
      ],
      "source": [
        "# answer\n",
        "import numpy as np\n",
        "\n",
        "# Coefficient matrix (items)\n",
        "A = np.array([\n",
        "    [2, 4, 3],  # W\n",
        "    [3, 3, 2],  # X\n",
        "    [4, 8, 1]   # Y\n",
        "])\n",
        "\n",
        "# Total cost vector\n",
        "B = np.array([38.80, 32.00, 36.60])\n",
        "\n",
        "# Solve for [notebook, pen, stapler]\n",
        "prices = np.linalg.solve(A, B)\n",
        "\n",
        "# Print individual item prices\n",
        "notebook, pen, stapler = prices\n",
        "print(f\"Notebook: ${notebook:.2f}, Pen: ${pen:.2f}, Stapler: ${stapler:.2f}\")\n",
        "\n",
        "# Calculate Customer Z's cost (1 notebook, 2 pens, 4 staplers)\n",
        "Z_total = 1 * notebook + 2 * pen + 4 * stapler\n",
        "print(f\"Customer Z spent: ${Z_total:.2f}\")\n"
      ]
    },
    {
      "cell_type": "code",
      "execution_count": null,
      "metadata": {
        "id": "B1fBVXXp9-JC"
      },
      "outputs": [],
      "source": []
    },
    {
      "cell_type": "markdown",
      "metadata": {
        "id": "f52z_umQpL1V"
      },
      "source": [
        "\n",
        "\n",
        "---\n",
        "\n",
        "\n",
        "\n",
        "---\n",
        "\n",
        "\n",
        "\n",
        "> > > > > > > > > © 2025 Institute of Data\n",
        "\n",
        "\n",
        "---\n",
        "\n",
        "\n",
        "\n",
        "---\n",
        "\n",
        "\n",
        "\n"
      ]
    }
  ],
  "metadata": {
    "colab": {
      "provenance": [],
      "include_colab_link": true
    },
    "kernelspec": {
      "display_name": "base",
      "language": "python",
      "name": "python3"
    },
    "language_info": {
      "codemirror_mode": {
        "name": "ipython",
        "version": 3
      },
      "file_extension": ".py",
      "mimetype": "text/x-python",
      "name": "python",
      "nbconvert_exporter": "python",
      "pygments_lexer": "ipython3",
      "version": "3.11.7"
    }
  },
  "nbformat": 4,
  "nbformat_minor": 0
}