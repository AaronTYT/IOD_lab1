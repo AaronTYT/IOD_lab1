{
 "cells": [
  {
   "cell_type": "markdown",
   "metadata": {
    "id": "iA6gMzOAsIgo"
   },
   "source": [
    "<div>\n",
    "<img src=https://www.institutedata.com/wp-content/uploads/2019/10/iod_h_tp_primary_c.svg width=\"300\">\n",
    "</div>"
   ]
  },
  {
   "cell_type": "markdown",
   "metadata": {
    "id": "6v4X9aDpRxRn"
   },
   "source": [
    "# NumPy Exploration"
   ]
  },
  {
   "cell_type": "markdown",
   "metadata": {
    "id": "4l4hvVs-Fsgj"
   },
   "source": [
    "This lab provides practice in the following NumPy functions and later creating plots using matplotlib.\n",
    "\n",
    "* zeros\n",
    "* ones\n",
    "* randint\n",
    "* arange\n",
    "* array\n",
    "* seed\n",
    "* normal\n",
    "* round\n",
    "* column_stack\n",
    "* ndim\n",
    "* shape\n",
    "* size\n",
    "* itemsize\n",
    "* min\n",
    "* max\n",
    "* mean\n",
    "* std\n",
    "* sum\n"
   ]
  },
  {
   "cell_type": "code",
   "execution_count": 116,
   "metadata": {
    "id": "hefHy7RERxRp"
   },
   "outputs": [],
   "source": [
    "import numpy as np\n",
    "import matplotlib.pyplot as plt\n",
    "\n",
    "# get matplotlib to show charts inline\n",
    "%matplotlib inline"
   ]
  },
  {
   "cell_type": "markdown",
   "metadata": {
    "id": "x9ntvVXELtPj"
   },
   "source": [
    "## Synthetic Data\n",
    "\n",
    "Sometimes we may want to generate test data, or we may need to initialise a series, matrix, or data frame for input to an algorithm. Numpy has several methods we can use for this."
   ]
  },
  {
   "cell_type": "markdown",
   "metadata": {
    "id": "YplM1LeFL4L-"
   },
   "source": [
    "Execute the following, then check the shape and content of each variable:"
   ]
  },
  {
   "cell_type": "code",
   "execution_count": 117,
   "metadata": {
    "id": "kUc7oSH3Lr9B"
   },
   "outputs": [],
   "source": [
    "# Creating arrays with initial values\n",
    "a = np.zeros((3))\n",
    "b = np.ones((1,3))\n",
    "c = np.random.randint(1,10,(2,3,4))   # randint(low, high, size)\n",
    "d = np.arange(4)\n",
    "e = np.array( [[1,2,3,4], [5,6,7,8]] )"
   ]
  },
  {
   "cell_type": "code",
   "execution_count": 118,
   "metadata": {
    "id": "-B-0y4IRMoKm"
   },
   "outputs": [
    {
     "name": "stdout",
     "output_type": "stream",
     "text": [
      "A Answer: \n",
      "(3,)\n",
      "[0. 0. 0.] \n",
      "\n",
      "B Answer: \n",
      "(1, 3)\n",
      "[[1. 1. 1.]] \n",
      "\n",
      "C Answer: \n",
      "(2, 3, 4)\n",
      "[[[9 5 5 1]\n",
      "  [1 2 4 3]\n",
      "  [9 5 9 7]]\n",
      "\n",
      " [[6 4 5 9]\n",
      "  [7 7 5 9]\n",
      "  [2 7 9 9]]] \n",
      "\n",
      "D Answer: \n",
      "(4,)\n",
      "[0 1 2 3] \n",
      "\n",
      "E Answer: \n",
      "(2, 4)\n",
      "[[1 2 3 4]\n",
      " [5 6 7 8]] \n",
      "\n"
     ]
    }
   ],
   "source": [
    "### ANSWER\n",
    "print(\"A Answer: \")\n",
    "print(a.shape)\n",
    "print(a, \"\\n\")\n",
    "\n",
    "print(\"B Answer: \")\n",
    "print(b.shape)\n",
    "print(b, \"\\n\")\n",
    "\n",
    "print(\"C Answer: \")\n",
    "print(c.shape)\n",
    "print(c, \"\\n\")\n",
    "\n",
    "print(\"D Answer: \")\n",
    "print(d.shape)\n",
    "print(d,\"\\n\")\n",
    "\n",
    "print(\"E Answer: \")\n",
    "print(e.shape)\n",
    "print(e, \"\\n\")"
   ]
  },
  {
   "cell_type": "markdown",
   "metadata": {
    "id": "FvhzdqWcMjvZ"
   },
   "source": [
    "## Summary statistics with height, weight and population data"
   ]
  },
  {
   "cell_type": "code",
   "execution_count": 138,
   "metadata": {
    "id": "hW87a--DRxRu"
   },
   "outputs": [],
   "source": [
    "np.random.seed(0)\n",
    "height= np.round(np.random.normal(1.75, 0.20, 7000), 2)\n",
    "weight= np.round(np.random.normal(60.32, 15, 7000), 2)\n",
    "population=np.column_stack((height, weight))"
   ]
  },
  {
   "cell_type": "code",
   "execution_count": 139,
   "metadata": {
    "colab": {
     "base_uri": "https://localhost:8080/"
    },
    "executionInfo": {
     "elapsed": 5,
     "status": "ok",
     "timestamp": 1667595136090,
     "user": {
      "displayName": "Jin Yang",
      "userId": "04843300463003240101"
     },
     "user_tz": -660
    },
    "id": "EmcwT6cDTv3J",
    "outputId": "181cac2c-dc51-47c3-e331-02533f6a38ce"
   },
   "outputs": [
    {
     "name": "stdout",
     "output_type": "stream",
     "text": [
      "height:\n",
      " [2.1  1.83 1.95 ... 1.55 1.54 1.57]\n",
      "weight:\n",
      " [52.6  66.59 29.59 ... 75.48 75.57 55.16]\n",
      "population:\n",
      " [[ 2.1  52.6 ]\n",
      " [ 1.83 66.59]\n",
      " [ 1.95 29.59]\n",
      " ...\n",
      " [ 1.55 75.48]\n",
      " [ 1.54 75.57]\n",
      " [ 1.57 55.16]]\n"
     ]
    }
   ],
   "source": [
    "print('height:\\n',height)\n",
    "print('weight:\\n',weight)\n",
    "print('population:\\n',population)"
   ]
  },
  {
   "cell_type": "markdown",
   "metadata": {
    "id": "FXVi-lphTHs2"
   },
   "source": [
    "**1. Find Dimension of Array**\n",
    "\n",
    "Find the dimension of each array: height, weight, population\n",
    "```\n",
    "# Expected Ouput\n",
    "np.ndim(height): 1\n",
    "np.ndim(weight): 1\n",
    "np.ndim(population): 2\n",
    "```"
   ]
  },
  {
   "cell_type": "code",
   "execution_count": 121,
   "metadata": {
    "id": "XRhSiPwhxCSs"
   },
   "outputs": [
    {
     "name": "stdout",
     "output_type": "stream",
     "text": [
      "np.ndim(height): 1\n",
      "np.ndim(weight): 1\n",
      "np.ndim(population): 2\n"
     ]
    }
   ],
   "source": [
    "print(f\"np.ndim(height): {np.ndim(height)}\")\n",
    "print(f\"np.ndim(weight): {np.ndim(weight)}\")\n",
    "print(f\"np.ndim(population): {np.ndim(population)}\")"
   ]
  },
  {
   "cell_type": "markdown",
   "metadata": {
    "id": "_TGkqif9T44j"
   },
   "source": [
    "**2. Find Shape of Array**\n",
    "\n",
    "Find the shape of each array: height, weight, population\n",
    "```\n",
    "# Expected Ouput\n",
    "np.shape(height) : (7000,)\n",
    "np.shape(weight) : (7000,)\n",
    "np.shape(population) : (7000, 2)\n",
    "```\n",
    "\n"
   ]
  },
  {
   "cell_type": "code",
   "execution_count": 122,
   "metadata": {
    "id": "TT6LdPGzNDX1"
   },
   "outputs": [
    {
     "name": "stdout",
     "output_type": "stream",
     "text": [
      "np.shape(height): (7000,)\n",
      "np.shape(weight): (7000,)\n",
      "np.shape(population): (7000, 2)\n"
     ]
    }
   ],
   "source": [
    "print(f\"np.shape(height): {np.shape(height)}\")\n",
    "print(f\"np.shape(weight): {np.shape(weight)}\")\n",
    "print(f\"np.shape(population): {np.shape(population)}\")\n"
   ]
  },
  {
   "cell_type": "markdown",
   "metadata": {
    "id": "I1x7cNp0UIkp"
   },
   "source": [
    "**3. Find Size of Array**\n",
    "\n",
    "Find the size of each array: height, weight, population\n",
    "```\n",
    "# Expected Ouput:\n",
    "np.size(height) : 7000\n",
    "np.size(weight) : 7000\n",
    "np.size(weight) : 14000\n",
    "```\n",
    "\n"
   ]
  },
  {
   "cell_type": "code",
   "execution_count": 123,
   "metadata": {},
   "outputs": [
    {
     "name": "stdout",
     "output_type": "stream",
     "text": [
      "np.size(height): 7000\n",
      "np.size(weight): 7000\n",
      "np.size(population): 14000\n"
     ]
    }
   ],
   "source": [
    "print(f\"np.size(height): {np.size(height)}\")\n",
    "print(f\"np.size(weight): {np.size(weight)}\")\n",
    "print(f\"np.size(population): {np.size(population)}\")\n"
   ]
  },
  {
   "cell_type": "markdown",
   "metadata": {
    "id": "v1N4xcurUVCS"
   },
   "source": [
    "**4. Find Size of Items of Each Array**\n",
    "\n",
    "Find the size of items of each array: height, weight, population\n",
    "```\n",
    "# Expected Output:\n",
    "height.itemsize : 8\n",
    "weight.itemsize : 8\n",
    "population.itemsize : 8\n",
    "```"
   ]
  },
  {
   "cell_type": "code",
   "execution_count": 124,
   "metadata": {
    "id": "OlQQ5g81NANg"
   },
   "outputs": [
    {
     "name": "stdout",
     "output_type": "stream",
     "text": [
      "np.size(height.itemsize): 8\n",
      "np.size(weight.itemsize): 8\n",
      "np.size(population.itemsize): 8\n"
     ]
    }
   ],
   "source": [
    "print(f\"np.size(height.itemsize): {height.itemsize}\")\n",
    "print(f\"np.size(weight.itemsize): {weight.itemsize}\")\n",
    "print(f\"np.size(population.itemsize): {population.itemsize}\")\n"
   ]
  },
  {
   "cell_type": "markdown",
   "metadata": {
    "id": "r83X2u4HUteY"
   },
   "source": [
    "**5. Find Minimum Value of Each Array**\n",
    "\n",
    "Find the minimum value of each array: height, weight, population (ok if the numbers you find are not identical to those below)\n",
    "```\n",
    "# Expected Output:\n",
    "height.min() : 1.0\n",
    "weight.min() : 3.24\n",
    "population.min() : 1.0\n",
    "```\n",
    "\n"
   ]
  },
  {
   "cell_type": "code",
   "execution_count": 125,
   "metadata": {
    "id": "s0hh9orsM-w5"
   },
   "outputs": [
    {
     "name": "stdout",
     "output_type": "stream",
     "text": [
      "height.min(): 1.0\n",
      "weight.min(): 4.91\n",
      "population.min(): 1.0\n"
     ]
    }
   ],
   "source": [
    "print(f\"height.min(): {height.min()}\")\n",
    "print(f\"weight.min(): {weight.min()}\")\n",
    "print(f\"population.min(): {population.min()}\")\n"
   ]
  },
  {
   "cell_type": "markdown",
   "metadata": {
    "id": "d7v4phGMVAu0"
   },
   "source": [
    "**6. Find Maximum Value of Each Array**\n",
    "\n",
    "Find the maximum value of each array: height, weight, population (ok if the numbers you find are not identical to those below)\n",
    "```\n",
    "# Expected Output\n",
    "height.max() : 2.51\n",
    "weight.max() : 132.17\n",
    "population.max() : 132.17\n",
    "```"
   ]
  },
  {
   "cell_type": "code",
   "execution_count": 126,
   "metadata": {
    "id": "17ONWBatM-Im"
   },
   "outputs": [
    {
     "name": "stdout",
     "output_type": "stream",
     "text": [
      "height.max(): 2.51\n",
      "weight.max(): 112.69\n",
      "population.max(): 112.69\n"
     ]
    }
   ],
   "source": [
    "print(f\"height.max(): {height.max()}\")\n",
    "print(f\"weight.max(): {weight.max()}\")\n",
    "print(f\"population.max(): {population.max()}\")\n"
   ]
  },
  {
   "cell_type": "markdown",
   "metadata": {
    "id": "vYPOvoePVa0m"
   },
   "source": [
    "**7. Find Mean Value of Each Array**\n",
    "\n",
    "Find the mean value of each array: height, weight, population (ok if the numbers you find are not identical to those below)\n",
    "```\n",
    "# Expected Output\n",
    "height.mean() : 1.7494871428571428\n",
    "weight.mean() : 60.41684428571429\n",
    "population.mean() : 31.083165714285716\n",
    "```\n",
    "\n"
   ]
  },
  {
   "cell_type": "code",
   "execution_count": 127,
   "metadata": {
    "id": "LF3yvxzYM8qh"
   },
   "outputs": [
    {
     "name": "stdout",
     "output_type": "stream",
     "text": [
      "height.mean(): 1.7477614285714285\n",
      "weight.mean(): 60.052885714285715\n",
      "population.mean(): 30.900323571428572\n"
     ]
    }
   ],
   "source": [
    "print(f\"height.mean(): {height.mean()}\")\n",
    "print(f\"weight.mean(): {weight.mean()}\")\n",
    "print(f\"population.mean(): {population.mean()}\")\n"
   ]
  },
  {
   "cell_type": "markdown",
   "metadata": {
    "id": "Xo7Y5yQPV070"
   },
   "source": [
    "**8. Find Standard Deviation of Each Array**\n",
    "\n",
    "Find the standard deviation value of each array: height, weight, population (ok if the numbers you find are not identical to those below)\n",
    "```\n",
    "# Expected Output\n",
    "height.std() : 0.1981923748970856\n",
    "weight.std() : 14.821310711612284\n",
    "population.std() : 31.090684288943482\n",
    "```"
   ]
  },
  {
   "cell_type": "code",
   "execution_count": 128,
   "metadata": {
    "id": "_7kEMCQ1M17U"
   },
   "outputs": [
    {
     "name": "stdout",
     "output_type": "stream",
     "text": [
      "height.std(): 0.19775331732298423\n",
      "weight.std(): 14.9200100024314\n",
      "population.std(): 31.003141484642004\n"
     ]
    }
   ],
   "source": [
    "print(f\"height.std(): {height.std()}\")\n",
    "print(f\"weight.std(): {weight.std()}\")\n",
    "print(f\"population.std(): {population.std()}\")"
   ]
  },
  {
   "cell_type": "markdown",
   "metadata": {
    "id": "tOsfNOAbWHGQ"
   },
   "source": [
    "**9. Find Total value of Each Array**\n",
    "\n",
    "Find the sum of each array: height, weight, population (ok if the numbers you find are not identical to those below)\n",
    "```\n",
    "# Expected Output\n",
    "height.sum() : 12219.789999999999\n",
    "weight.sum() : 422009.95\n",
    "population.sum() : 434229.74\n",
    "```"
   ]
  },
  {
   "cell_type": "code",
   "execution_count": 129,
   "metadata": {
    "id": "TcP6CVnRM3C7"
   },
   "outputs": [
    {
     "name": "stdout",
     "output_type": "stream",
     "text": [
      "height.sum(): 12234.33\n",
      "weight.sum(): 420370.2\n",
      "population.sum(): 432604.53\n"
     ]
    }
   ],
   "source": [
    "print(f\"height.sum(): {height.sum()}\")\n",
    "print(f\"weight.sum(): {weight.sum()}\")\n",
    "print(f\"population.sum(): {population.sum()}\")"
   ]
  },
  {
   "cell_type": "markdown",
   "metadata": {
    "id": "J11tIVhEWfcI"
   },
   "source": [
    "**10. Create histograms of height and weight**"
   ]
  },
  {
   "cell_type": "code",
   "execution_count": 66,
   "metadata": {
    "colab": {
     "base_uri": "https://localhost:8080/",
     "height": 3834
    },
    "executionInfo": {
     "elapsed": 871,
     "status": "ok",
     "timestamp": 1552619858866,
     "user": {
      "displayName": "",
      "photoUrl": "",
      "userId": ""
     },
     "user_tz": -660
    },
    "id": "gOsaH1wYWsnl",
    "outputId": "16ff210c-6f29-45de-ddff-ba5cfee755c2"
   },
   "outputs": [
    {
     "name": "stdout",
     "output_type": "stream",
     "text": [
      "Help on function hist in module matplotlib.pyplot:\n",
      "\n",
      "hist(x: 'ArrayLike | Sequence[ArrayLike]', bins: 'int | Sequence[float] | str | None' = None, range: 'tuple[float, float] | None' = None, density: 'bool' = False, weights: 'ArrayLike | None' = None, cumulative: 'bool | float' = False, bottom: 'ArrayLike | float | None' = None, histtype: \"Literal['bar', 'barstacked', 'step', 'stepfilled']\" = 'bar', align: \"Literal['left', 'mid', 'right']\" = 'mid', orientation: \"Literal['vertical', 'horizontal']\" = 'vertical', rwidth: 'float | None' = None, log: 'bool' = False, color: 'ColorType | Sequence[ColorType] | None' = None, label: 'str | Sequence[str] | None' = None, stacked: 'bool' = False, *, data=None, **kwargs) -> 'tuple[np.ndarray | list[np.ndarray], np.ndarray, BarContainer | Polygon | list[BarContainer | Polygon]]'\n",
      "    Compute and plot a histogram.\n",
      "    \n",
      "    This method uses `numpy.histogram` to bin the data in *x* and count the\n",
      "    number of values in each bin, then draws the distribution either as a\n",
      "    `.BarContainer` or `.Polygon`. The *bins*, *range*, *density*, and\n",
      "    *weights* parameters are forwarded to `numpy.histogram`.\n",
      "    \n",
      "    If the data has already been binned and counted, use `~.bar` or\n",
      "    `~.stairs` to plot the distribution::\n",
      "    \n",
      "        counts, bins = np.histogram(x)\n",
      "        plt.stairs(counts, bins)\n",
      "    \n",
      "    Alternatively, plot pre-computed bins and counts using ``hist()`` by\n",
      "    treating each bin as a single point with a weight equal to its count::\n",
      "    \n",
      "        plt.hist(bins[:-1], bins, weights=counts)\n",
      "    \n",
      "    The data input *x* can be a singular array, a list of datasets of\n",
      "    potentially different lengths ([*x0*, *x1*, ...]), or a 2D ndarray in\n",
      "    which each column is a dataset. Note that the ndarray form is\n",
      "    transposed relative to the list form. If the input is an array, then\n",
      "    the return value is a tuple (*n*, *bins*, *patches*); if the input is a\n",
      "    sequence of arrays, then the return value is a tuple\n",
      "    ([*n0*, *n1*, ...], *bins*, [*patches0*, *patches1*, ...]).\n",
      "    \n",
      "    Masked arrays are not supported.\n",
      "    \n",
      "    Parameters\n",
      "    ----------\n",
      "    x : (n,) array or sequence of (n,) arrays\n",
      "        Input values, this takes either a single array or a sequence of\n",
      "        arrays which are not required to be of the same length.\n",
      "    \n",
      "    bins : int or sequence or str, default: :rc:`hist.bins`\n",
      "        If *bins* is an integer, it defines the number of equal-width bins\n",
      "        in the range.\n",
      "    \n",
      "        If *bins* is a sequence, it defines the bin edges, including the\n",
      "        left edge of the first bin and the right edge of the last bin;\n",
      "        in this case, bins may be unequally spaced.  All but the last\n",
      "        (righthand-most) bin is half-open.  In other words, if *bins* is::\n",
      "    \n",
      "            [1, 2, 3, 4]\n",
      "    \n",
      "        then the first bin is ``[1, 2)`` (including 1, but excluding 2) and\n",
      "        the second ``[2, 3)``.  The last bin, however, is ``[3, 4]``, which\n",
      "        *includes* 4.\n",
      "    \n",
      "        If *bins* is a string, it is one of the binning strategies\n",
      "        supported by `numpy.histogram_bin_edges`: 'auto', 'fd', 'doane',\n",
      "        'scott', 'stone', 'rice', 'sturges', or 'sqrt'.\n",
      "    \n",
      "    range : tuple or None, default: None\n",
      "        The lower and upper range of the bins. Lower and upper outliers\n",
      "        are ignored. If not provided, *range* is ``(x.min(), x.max())``.\n",
      "        Range has no effect if *bins* is a sequence.\n",
      "    \n",
      "        If *bins* is a sequence or *range* is specified, autoscaling\n",
      "        is based on the specified bin range instead of the\n",
      "        range of x.\n",
      "    \n",
      "    density : bool, default: False\n",
      "        If ``True``, draw and return a probability density: each bin\n",
      "        will display the bin's raw count divided by the total number of\n",
      "        counts *and the bin width*\n",
      "        (``density = counts / (sum(counts) * np.diff(bins))``),\n",
      "        so that the area under the histogram integrates to 1\n",
      "        (``np.sum(density * np.diff(bins)) == 1``).\n",
      "    \n",
      "        If *stacked* is also ``True``, the sum of the histograms is\n",
      "        normalized to 1.\n",
      "    \n",
      "    weights : (n,) array-like or None, default: None\n",
      "        An array of weights, of the same shape as *x*.  Each value in\n",
      "        *x* only contributes its associated weight towards the bin count\n",
      "        (instead of 1).  If *density* is ``True``, the weights are\n",
      "        normalized, so that the integral of the density over the range\n",
      "        remains 1.\n",
      "    \n",
      "    cumulative : bool or -1, default: False\n",
      "        If ``True``, then a histogram is computed where each bin gives the\n",
      "        counts in that bin plus all bins for smaller values. The last bin\n",
      "        gives the total number of datapoints.\n",
      "    \n",
      "        If *density* is also ``True`` then the histogram is normalized such\n",
      "        that the last bin equals 1.\n",
      "    \n",
      "        If *cumulative* is a number less than 0 (e.g., -1), the direction\n",
      "        of accumulation is reversed.  In this case, if *density* is also\n",
      "        ``True``, then the histogram is normalized such that the first bin\n",
      "        equals 1.\n",
      "    \n",
      "    bottom : array-like, scalar, or None, default: None\n",
      "        Location of the bottom of each bin, i.e. bins are drawn from\n",
      "        ``bottom`` to ``bottom + hist(x, bins)`` If a scalar, the bottom\n",
      "        of each bin is shifted by the same amount. If an array, each bin\n",
      "        is shifted independently and the length of bottom must match the\n",
      "        number of bins. If None, defaults to 0.\n",
      "    \n",
      "    histtype : {'bar', 'barstacked', 'step', 'stepfilled'}, default: 'bar'\n",
      "        The type of histogram to draw.\n",
      "    \n",
      "        - 'bar' is a traditional bar-type histogram.  If multiple data\n",
      "          are given the bars are arranged side by side.\n",
      "        - 'barstacked' is a bar-type histogram where multiple\n",
      "          data are stacked on top of each other.\n",
      "        - 'step' generates a lineplot that is by default unfilled.\n",
      "        - 'stepfilled' generates a lineplot that is by default filled.\n",
      "    \n",
      "    align : {'left', 'mid', 'right'}, default: 'mid'\n",
      "        The horizontal alignment of the histogram bars.\n",
      "    \n",
      "        - 'left': bars are centered on the left bin edges.\n",
      "        - 'mid': bars are centered between the bin edges.\n",
      "        - 'right': bars are centered on the right bin edges.\n",
      "    \n",
      "    orientation : {'vertical', 'horizontal'}, default: 'vertical'\n",
      "        If 'horizontal', `~.Axes.barh` will be used for bar-type histograms\n",
      "        and the *bottom* kwarg will be the left edges.\n",
      "    \n",
      "    rwidth : float or None, default: None\n",
      "        The relative width of the bars as a fraction of the bin width.  If\n",
      "        ``None``, automatically compute the width.\n",
      "    \n",
      "        Ignored if *histtype* is 'step' or 'stepfilled'.\n",
      "    \n",
      "    log : bool, default: False\n",
      "        If ``True``, the histogram axis will be set to a log scale.\n",
      "    \n",
      "    color : color or array-like of colors or None, default: None\n",
      "        Color or sequence of colors, one per dataset.  Default (``None``)\n",
      "        uses the standard line color sequence.\n",
      "    \n",
      "    label : str or None, default: None\n",
      "        String, or sequence of strings to match multiple datasets.  Bar\n",
      "        charts yield multiple patches per dataset, but only the first gets\n",
      "        the label, so that `~.Axes.legend` will work as expected.\n",
      "    \n",
      "    stacked : bool, default: False\n",
      "        If ``True``, multiple data are stacked on top of each other If\n",
      "        ``False`` multiple data are arranged side by side if histtype is\n",
      "        'bar' or on top of each other if histtype is 'step'\n",
      "    \n",
      "    Returns\n",
      "    -------\n",
      "    n : array or list of arrays\n",
      "        The values of the histogram bins. See *density* and *weights* for a\n",
      "        description of the possible semantics.  If input *x* is an array,\n",
      "        then this is an array of length *nbins*. If input is a sequence of\n",
      "        arrays ``[data1, data2, ...]``, then this is a list of arrays with\n",
      "        the values of the histograms for each of the arrays in the same\n",
      "        order.  The dtype of the array *n* (or of its element arrays) will\n",
      "        always be float even if no weighting or normalization is used.\n",
      "    \n",
      "    bins : array\n",
      "        The edges of the bins. Length nbins + 1 (nbins left edges and right\n",
      "        edge of last bin).  Always a single array even when multiple data\n",
      "        sets are passed in.\n",
      "    \n",
      "    patches : `.BarContainer` or list of a single `.Polygon` or list of such objects\n",
      "        Container of individual artists used to create the histogram\n",
      "        or list of such containers if there are multiple input datasets.\n",
      "    \n",
      "    Other Parameters\n",
      "    ----------------\n",
      "    data : indexable object, optional\n",
      "        If given, the following parameters also accept a string ``s``, which is\n",
      "        interpreted as ``data[s]`` (unless this raises an exception):\n",
      "    \n",
      "        *x*, *weights*\n",
      "    \n",
      "    **kwargs\n",
      "        `~matplotlib.patches.Patch` properties\n",
      "    \n",
      "    See Also\n",
      "    --------\n",
      "    hist2d : 2D histogram with rectangular bins\n",
      "    hexbin : 2D histogram with hexagonal bins\n",
      "    stairs : Plot a pre-computed histogram\n",
      "    bar : Plot a pre-computed histogram\n",
      "    \n",
      "    Notes\n",
      "    -----\n",
      "    For large numbers of bins (>1000), plotting can be significantly\n",
      "    accelerated by using `~.Axes.stairs` to plot a pre-computed histogram\n",
      "    (``plt.stairs(*np.histogram(data))``), or by setting *histtype* to\n",
      "    'step' or 'stepfilled' rather than 'bar' or 'barstacked'.\n",
      "\n"
     ]
    }
   ],
   "source": [
    "help(plt.hist)"
   ]
  },
  {
   "cell_type": "code",
   "execution_count": 130,
   "metadata": {
    "id": "UrcqngZ-G-re"
   },
   "outputs": [
    {
     "data": {
      "image/png": "[encoded data removed]",
      "text/plain": [
       "<Figure size 640x480 with 1 Axes>"
      ]
     },
     "metadata": {},
     "output_type": "display_data"
    }
   ],
   "source": [
    "# Histogram for weight:\n",
    "plt.hist(weight)\n",
    "plt.xlabel('kg')\n",
    "plt.ylabel('number of people')\n",
    "\n",
    "plt.title('Weight Histogram', fontweight='bold')\n",
    "\n",
    "plt.show()"
   ]
  },
  {
   "cell_type": "code",
   "execution_count": 131,
   "metadata": {},
   "outputs": [
    {
     "data": {
      "image/png": "[encoded data removed]",
      "text/plain": [
       "<Figure size 640x480 with 1 Axes>"
      ]
     },
     "metadata": {},
     "output_type": "display_data"
    }
   ],
   "source": [
    "# Histogram for weight:\n",
    "plt.hist(height)\n",
    "plt.xlabel('m')\n",
    "plt.ylabel('number of people')\n",
    "\n",
    "plt.title('Height Histogram', fontweight='bold')\n",
    "plt.tight_layout()\n",
    "plt.show()"
   ]
  },
  {
   "cell_type": "code",
   "execution_count": 79,
   "metadata": {
    "colab": {
     "base_uri": "https://localhost:8080/",
     "height": 3222
    },
    "executionInfo": {
     "elapsed": 851,
     "status": "ok",
     "timestamp": 1552620003646,
     "user": {
      "displayName": "",
      "photoUrl": "",
      "userId": ""
     },
     "user_tz": -660
    },
    "id": "PZbswA3fXQSL",
    "outputId": "2256b909-9b78-4e08-bc33-40d5aa2926af"
   },
   "outputs": [
    {
     "name": "stdout",
     "output_type": "stream",
     "text": [
      "Help on function boxplot in module matplotlib.pyplot:\n",
      "\n",
      "boxplot(x: 'ArrayLike | Sequence[ArrayLike]', notch: 'bool | None' = None, sym: 'str | None' = None, vert: 'bool | None' = None, whis: 'float | tuple[float, float] | None' = None, positions: 'ArrayLike | None' = None, widths: 'float | ArrayLike | None' = None, patch_artist: 'bool | None' = None, bootstrap: 'int | None' = None, usermedians: 'ArrayLike | None' = None, conf_intervals: 'ArrayLike | None' = None, meanline: 'bool | None' = None, showmeans: 'bool | None' = None, showcaps: 'bool | None' = None, showbox: 'bool | None' = None, showfliers: 'bool | None' = None, boxprops: 'dict[str, Any] | None' = None, labels: 'Sequence[str] | None' = None, flierprops: 'dict[str, Any] | None' = None, medianprops: 'dict[str, Any] | None' = None, meanprops: 'dict[str, Any] | None' = None, capprops: 'dict[str, Any] | None' = None, whiskerprops: 'dict[str, Any] | None' = None, manage_ticks: 'bool' = True, autorange: 'bool' = False, zorder: 'float | None' = None, capwidths: 'float | ArrayLike | None' = None, *, data=None) -> 'dict[str, Any]'\n",
      "    Draw a box and whisker plot.\n",
      "    \n",
      "    The box extends from the first quartile (Q1) to the third\n",
      "    quartile (Q3) of the data, with a line at the median.\n",
      "    The whiskers extend from the box to the farthest data point\n",
      "    lying within 1.5x the inter-quartile range (IQR) from the box.\n",
      "    Flier points are those past the end of the whiskers.\n",
      "    See https://en.wikipedia.org/wiki/Box_plot for reference.\n",
      "    \n",
      "    .. code-block:: none\n",
      "    \n",
      "              Q1-1.5IQR   Q1   median  Q3   Q3+1.5IQR\n",
      "                           |-----:-----|\n",
      "           o      |--------|     :     |--------|    o  o\n",
      "                           |-----:-----|\n",
      "         flier             <----------->            fliers\n",
      "                                IQR\n",
      "    \n",
      "    \n",
      "    Parameters\n",
      "    ----------\n",
      "    x : Array or a sequence of vectors.\n",
      "        The input data.  If a 2D array, a boxplot is drawn for each column\n",
      "        in *x*.  If a sequence of 1D arrays, a boxplot is drawn for each\n",
      "        array in *x*.\n",
      "    \n",
      "    notch : bool, default: False\n",
      "        Whether to draw a notched boxplot (`True`), or a rectangular\n",
      "        boxplot (`False`).  The notches represent the confidence interval\n",
      "        (CI) around the median.  The documentation for *bootstrap*\n",
      "        describes how the locations of the notches are computed by\n",
      "        default, but their locations may also be overridden by setting the\n",
      "        *conf_intervals* parameter.\n",
      "    \n",
      "        .. note::\n",
      "    \n",
      "            In cases where the values of the CI are less than the\n",
      "            lower quartile or greater than the upper quartile, the\n",
      "            notches will extend beyond the box, giving it a\n",
      "            distinctive \"flipped\" appearance. This is expected\n",
      "            behavior and consistent with other statistical\n",
      "            visualization packages.\n",
      "    \n",
      "    sym : str, optional\n",
      "        The default symbol for flier points.  An empty string ('') hides\n",
      "        the fliers.  If `None`, then the fliers default to 'b+'.  More\n",
      "        control is provided by the *flierprops* parameter.\n",
      "    \n",
      "    vert : bool, default: True\n",
      "        If `True`, draws vertical boxes.\n",
      "        If `False`, draw horizontal boxes.\n",
      "    \n",
      "    whis : float or (float, float), default: 1.5\n",
      "        The position of the whiskers.\n",
      "    \n",
      "        If a float, the lower whisker is at the lowest datum above\n",
      "        ``Q1 - whis*(Q3-Q1)``, and the upper whisker at the highest datum\n",
      "        below ``Q3 + whis*(Q3-Q1)``, where Q1 and Q3 are the first and\n",
      "        third quartiles.  The default value of ``whis = 1.5`` corresponds\n",
      "        to Tukey's original definition of boxplots.\n",
      "    \n",
      "        If a pair of floats, they indicate the percentiles at which to\n",
      "        draw the whiskers (e.g., (5, 95)).  In particular, setting this to\n",
      "        (0, 100) results in whiskers covering the whole range of the data.\n",
      "    \n",
      "        In the edge case where ``Q1 == Q3``, *whis* is automatically set\n",
      "        to (0, 100) (cover the whole range of the data) if *autorange* is\n",
      "        True.\n",
      "    \n",
      "        Beyond the whiskers, data are considered outliers and are plotted\n",
      "        as individual points.\n",
      "    \n",
      "    bootstrap : int, optional\n",
      "        Specifies whether to bootstrap the confidence intervals\n",
      "        around the median for notched boxplots. If *bootstrap* is\n",
      "        None, no bootstrapping is performed, and notches are\n",
      "        calculated using a Gaussian-based asymptotic approximation\n",
      "        (see McGill, R., Tukey, J.W., and Larsen, W.A., 1978, and\n",
      "        Kendall and Stuart, 1967). Otherwise, bootstrap specifies\n",
      "        the number of times to bootstrap the median to determine its\n",
      "        95% confidence intervals. Values between 1000 and 10000 are\n",
      "        recommended.\n",
      "    \n",
      "    usermedians : 1D array-like, optional\n",
      "        A 1D array-like of length ``len(x)``.  Each entry that is not\n",
      "        `None` forces the value of the median for the corresponding\n",
      "        dataset.  For entries that are `None`, the medians are computed\n",
      "        by Matplotlib as normal.\n",
      "    \n",
      "    conf_intervals : array-like, optional\n",
      "        A 2D array-like of shape ``(len(x), 2)``.  Each entry that is not\n",
      "        None forces the location of the corresponding notch (which is\n",
      "        only drawn if *notch* is `True`).  For entries that are `None`,\n",
      "        the notches are computed by the method specified by the other\n",
      "        parameters (e.g., *bootstrap*).\n",
      "    \n",
      "    positions : array-like, optional\n",
      "        The positions of the boxes. The ticks and limits are\n",
      "        automatically set to match the positions. Defaults to\n",
      "        ``range(1, N+1)`` where N is the number of boxes to be drawn.\n",
      "    \n",
      "    widths : float or array-like\n",
      "        The widths of the boxes.  The default is 0.5, or ``0.15*(distance\n",
      "        between extreme positions)``, if that is smaller.\n",
      "    \n",
      "    patch_artist : bool, default: False\n",
      "        If `False` produces boxes with the Line2D artist. Otherwise,\n",
      "        boxes are drawn with Patch artists.\n",
      "    \n",
      "    labels : sequence, optional\n",
      "        Labels for each dataset (one per dataset).\n",
      "    \n",
      "    manage_ticks : bool, default: True\n",
      "        If True, the tick locations and labels will be adjusted to match\n",
      "        the boxplot positions.\n",
      "    \n",
      "    autorange : bool, default: False\n",
      "        When `True` and the data are distributed such that the 25th and\n",
      "        75th percentiles are equal, *whis* is set to (0, 100) such\n",
      "        that the whisker ends are at the minimum and maximum of the data.\n",
      "    \n",
      "    meanline : bool, default: False\n",
      "        If `True` (and *showmeans* is `True`), will try to render the\n",
      "        mean as a line spanning the full width of the box according to\n",
      "        *meanprops* (see below).  Not recommended if *shownotches* is also\n",
      "        True.  Otherwise, means will be shown as points.\n",
      "    \n",
      "    zorder : float, default: ``Line2D.zorder = 2``\n",
      "        The zorder of the boxplot.\n",
      "    \n",
      "    Returns\n",
      "    -------\n",
      "    dict\n",
      "      A dictionary mapping each component of the boxplot to a list\n",
      "      of the `.Line2D` instances created. That dictionary has the\n",
      "      following keys (assuming vertical boxplots):\n",
      "    \n",
      "      - ``boxes``: the main body of the boxplot showing the\n",
      "        quartiles and the median's confidence intervals if\n",
      "        enabled.\n",
      "    \n",
      "      - ``medians``: horizontal lines at the median of each box.\n",
      "    \n",
      "      - ``whiskers``: the vertical lines extending to the most\n",
      "        extreme, non-outlier data points.\n",
      "    \n",
      "      - ``caps``: the horizontal lines at the ends of the\n",
      "        whiskers.\n",
      "    \n",
      "      - ``fliers``: points representing data that extend beyond\n",
      "        the whiskers (fliers).\n",
      "    \n",
      "      - ``means``: points or lines representing the means.\n",
      "    \n",
      "    Other Parameters\n",
      "    ----------------\n",
      "    showcaps : bool, default: True\n",
      "        Show the caps on the ends of whiskers.\n",
      "    showbox : bool, default: True\n",
      "        Show the central box.\n",
      "    showfliers : bool, default: True\n",
      "        Show the outliers beyond the caps.\n",
      "    showmeans : bool, default: False\n",
      "        Show the arithmetic means.\n",
      "    capprops : dict, default: None\n",
      "        The style of the caps.\n",
      "    capwidths : float or array, default: None\n",
      "        The widths of the caps.\n",
      "    boxprops : dict, default: None\n",
      "        The style of the box.\n",
      "    whiskerprops : dict, default: None\n",
      "        The style of the whiskers.\n",
      "    flierprops : dict, default: None\n",
      "        The style of the fliers.\n",
      "    medianprops : dict, default: None\n",
      "        The style of the median.\n",
      "    meanprops : dict, default: None\n",
      "        The style of the mean.\n",
      "    data : indexable object, optional\n",
      "        If given, all parameters also accept a string ``s``, which is\n",
      "        interpreted as ``data[s]`` (unless this raises an exception).\n",
      "    \n",
      "    See Also\n",
      "    --------\n",
      "    violinplot : Draw an estimate of the probability density function.\n",
      "\n"
     ]
    }
   ],
   "source": [
    "help(plt.boxplot)"
   ]
  },
  {
   "cell_type": "code",
   "execution_count": 132,
   "metadata": {
    "id": "NPAXeJM7HAj8"
   },
   "outputs": [
    {
     "data": {
      "image/png": "[encoded data removed]",
      "text/plain": [
       "<Figure size 640x480 with 1 Axes>"
      ]
     },
     "metadata": {},
     "output_type": "display_data"
    }
   ],
   "source": [
    "# Boxplot for weight:\n",
    "plt.boxplot(weight)\n",
    "plt.xlabel('human')\n",
    "plt.ylabel('Weight (kg)')\n",
    "\n",
    "plt.title('Weight Boxplot', fontweight='bold')\n",
    "plt.show()"
   ]
  },
  {
   "cell_type": "code",
   "execution_count": 86,
   "metadata": {},
   "outputs": [
    {
     "data": {
      "image/png": "[encoded data removed]",
      "text/plain": [
       "<Figure size 640x480 with 1 Axes>"
      ]
     },
     "metadata": {},
     "output_type": "display_data"
    }
   ],
   "source": [
    "# Boxplot for height:\n",
    "plt.boxplot(height)\n",
    "plt.xlabel('human')\n",
    "plt.ylabel('Height (m)')\n",
    "\n",
    "plt.title('Height Boxplot', fontweight='bold')\n",
    "plt.show()"
   ]
  },
  {
   "cell_type": "markdown",
   "metadata": {
    "id": "b-6Hr9dSXD2L"
   },
   "source": [
    "**12. Create a scatterplot of height and weight**"
   ]
  },
  {
   "cell_type": "code",
   "execution_count": null,
   "metadata": {
    "colab": {
     "base_uri": "https://localhost:8080/",
     "height": 2029
    },
    "executionInfo": {
     "elapsed": 726,
     "status": "ok",
     "timestamp": 1552620019954,
     "user": {
      "displayName": "",
      "photoUrl": "",
      "userId": ""
     },
     "user_tz": -660
    },
    "id": "S3l7S_qBXUT2",
    "outputId": "1a4753f4-e695-484f-9469-4eb5ff2ceafe"
   },
   "outputs": [
    {
     "name": "stdout",
     "output_type": "stream",
     "text": [
      "Help on function scatter in module matplotlib.pyplot:\n",
      "\n",
      "scatter(x, y, s=None, c=None, marker=None, cmap=None, norm=None, vmin=None, vmax=None, alpha=None, linewidths=None, verts=None, edgecolors=None, *, data=None, **kwargs)\n",
      "    A scatter plot of *y* vs *x* with varying marker size and/or color.\n",
      "    \n",
      "    Parameters\n",
      "    ----------\n",
      "    x, y : array_like, shape (n, )\n",
      "        The data positions.\n",
      "    \n",
      "    s : scalar or array_like, shape (n, ), optional\n",
      "        The marker size in points**2.\n",
      "        Default is ``rcParams['lines.markersize'] ** 2``.\n",
      "    \n",
      "    c : color, sequence, or sequence of color, optional\n",
      "        The marker color. Possible values:\n",
      "    \n",
      "        - A single color format string.\n",
      "        - A sequence of color specifications of length n.\n",
      "        - A sequence of n numbers to be mapped to colors using *cmap* and\n",
      "          *norm*.\n",
      "        - A 2-D array in which the rows are RGB or RGBA.\n",
      "    \n",
      "        Note that *c* should not be a single numeric RGB or RGBA sequence\n",
      "        because that is indistinguishable from an array of values to be\n",
      "        colormapped. If you want to specify the same RGB or RGBA value for\n",
      "        all points, use a 2-D array with a single row.  Otherwise, value-\n",
      "        matching will have precedence in case of a size matching with *x*\n",
      "        and *y*.\n",
      "    \n",
      "        Defaults to ``None``. In that case the marker color is determined\n",
      "        by the value of ``color``, ``facecolor`` or ``facecolors``. In case\n",
      "        those are not specified or ``None``, the marker color is determined\n",
      "        by the next color of the ``Axes``' current \"shape and fill\" color\n",
      "        cycle. This cycle defaults to :rc:`axes.prop_cycle`.\n",
      "    \n",
      "    marker : `~matplotlib.markers.MarkerStyle`, optional\n",
      "        The marker style. *marker* can be either an instance of the class\n",
      "        or the text shorthand for a particular marker.\n",
      "        Defaults to ``None``, in which case it takes the value of\n",
      "        :rc:`scatter.marker` = 'o'.\n",
      "        See `~matplotlib.markers` for more information about marker styles.\n",
      "    \n",
      "    cmap : `~matplotlib.colors.Colormap`, optional, default: None\n",
      "        A `.Colormap` instance or registered colormap name. *cmap* is only\n",
      "        used if *c* is an array of floats. If ``None``, defaults to rc\n",
      "        ``image.cmap``.\n",
      "    \n",
      "    norm : `~matplotlib.colors.Normalize`, optional, default: None\n",
      "        A `.Normalize` instance is used to scale luminance data to 0, 1.\n",
      "        *norm* is only used if *c* is an array of floats. If *None*, use\n",
      "        the default `.colors.Normalize`.\n",
      "    \n",
      "    vmin, vmax : scalar, optional, default: None\n",
      "        *vmin* and *vmax* are used in conjunction with *norm* to normalize\n",
      "        luminance data. If None, the respective min and max of the color\n",
      "        array is used. *vmin* and *vmax* are ignored if you pass a *norm*\n",
      "        instance.\n",
      "    \n",
      "    alpha : scalar, optional, default: None\n",
      "        The alpha blending value, between 0 (transparent) and 1 (opaque).\n",
      "    \n",
      "    linewidths : scalar or array_like, optional, default: None\n",
      "        The linewidth of the marker edges. Note: The default *edgecolors*\n",
      "        is 'face'. You may want to change this as well.\n",
      "        If *None*, defaults to rcParams ``lines.linewidth``.\n",
      "    \n",
      "    edgecolors : color or sequence of color, optional, default: 'face'\n",
      "        The edge color of the marker. Possible values:\n",
      "    \n",
      "        - 'face': The edge color will always be the same as the face color.\n",
      "        - 'none': No patch boundary will be drawn.\n",
      "        - A matplotib color.\n",
      "    \n",
      "        For non-filled markers, the *edgecolors* kwarg is ignored and\n",
      "        forced to 'face' internally.\n",
      "    \n",
      "    Returns\n",
      "    -------\n",
      "    paths : `~matplotlib.collections.PathCollection`\n",
      "    \n",
      "    Other Parameters\n",
      "    ----------------\n",
      "    **kwargs : `~matplotlib.collections.Collection` properties\n",
      "    \n",
      "    See Also\n",
      "    --------\n",
      "    plot : To plot scatter plots when markers are identical in size and\n",
      "        color.\n",
      "    \n",
      "    Notes\n",
      "    -----\n",
      "    \n",
      "    * The `.plot` function will be faster for scatterplots where markers\n",
      "      don't vary in size or color.\n",
      "    \n",
      "    * Any or all of *x*, *y*, *s*, and *c* may be masked arrays, in which\n",
      "      case all masks will be combined and only unmasked points will be\n",
      "      plotted.\n",
      "    \n",
      "    * Fundamentally, scatter works with 1-D arrays; *x*, *y*, *s*, and *c*\n",
      "      may be input as 2-D arrays, but within scatter they will be\n",
      "      flattened. The exception is *c*, which will be flattened only if its\n",
      "      size matches the size of *x* and *y*.\n",
      "    \n",
      "    .. note::\n",
      "        In addition to the above described arguments, this function can take a\n",
      "        **data** keyword argument. If such a **data** argument is given, the\n",
      "        following arguments are replaced by **data[<arg>]**:\n",
      "    \n",
      "        * All arguments with the following names: 'c', 'color', 'edgecolors', 'facecolor', 'facecolors', 'linewidths', 's', 'x', 'y'.\n",
      "    \n",
      "        Objects passed as **data** must support item access (``data[<arg>]``) and\n",
      "        membership test (``<arg> in data``).\n",
      "\n"
     ]
    }
   ],
   "source": [
    "help(plt.scatter)"
   ]
  },
  {
   "cell_type": "code",
   "execution_count": 133,
   "metadata": {
    "id": "NK2nPSncHCOW"
   },
   "outputs": [
    {
     "data": {
      "image/png": "[encoded data removed]",
      "text/plain": [
       "<Figure size 640x480 with 1 Axes>"
      ]
     },
     "metadata": {},
     "output_type": "display_data"
    }
   ],
   "source": [
    "# Boxplot for weight:\n",
    "plt.scatter(weight, height)\n",
    "plt.xlabel('Weight (kg)')\n",
    "plt.ylabel('Height (m)')\n",
    "\n",
    "plt.title('Weight and Height Scatterplot', fontweight='bold')\n",
    "plt.show()"
   ]
  },
  {
   "cell_type": "markdown",
   "metadata": {
    "id": "uwAr9EqbpZwg"
   },
   "source": [
    "\n",
    "\n",
    "---\n",
    "\n",
    "\n",
    "\n",
    "---\n",
    "\n",
    "\n",
    "\n",
    "> > > > > > > > > © 2025 Institute of Data\n",
    "\n",
    "\n",
    "---\n",
    "\n",
    "\n",
    "\n",
    "---\n",
    "\n",
    "\n",
    "\n"
   ]
  }
 ],
 "metadata": {
  "colab": {
   "provenance": [
    {
     "file_id": "https://github.com/ikfaisal/dsia/blob/master/Numpy01.ipynb",
     "timestamp": 1552620043198
    }
   ]
  },
  "kernelspec": {
   "display_name": "base",
   "language": "python",
   "name": "python3"
  },
  "language_info": {
   "codemirror_mode": {
    "name": "ipython",
    "version": 3
   },
   "file_extension": ".py",
   "mimetype": "text/x-python",
   "name": "python",
   "nbconvert_exporter": "python",
   "pygments_lexer": "ipython3",
   "version": "3.11.7"
  }
 },
 "nbformat": 4,
 "nbformat_minor": 0
}
